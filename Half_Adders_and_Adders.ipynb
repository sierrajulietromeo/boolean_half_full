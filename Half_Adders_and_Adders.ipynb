{
  "nbformat": 4,
  "nbformat_minor": 0,
  "metadata": {
    "colab": {
      "name": "new Half Adders and Adders.ipynb",
      "version": "0.3.2",
      "provenance": [],
      "collapsed_sections": [],
      "include_colab_link": true
    },
    "kernelspec": {
      "name": "python3",
      "display_name": "Python 3"
    }
  },
  "cells": [
    {
      "cell_type": "markdown",
      "metadata": {
        "id": "view-in-github",
        "colab_type": "text"
      },
      "source": [
        "<a href=\"https://colab.research.google.com/github/sierrajulietromeo/boolean_half_full/blob/master/Half_Adders_and_Adders.ipynb\" target=\"_parent\"><img src=\"https://colab.research.google.com/assets/colab-badge.svg\" alt=\"Open In Colab\"/></a>"
      ]
    },
    {
      "metadata": {
        "id": "jdjlrul2LM50",
        "colab_type": "text"
      },
      "cell_type": "markdown",
      "source": [
        "# Logic Circuits - Adders\n",
        "\n",
        "![Binary Header](http://sincil.co.uk/raspberry/20446713629_d597b753fc_z.jpg)\n",
        "\n",
        "(Header image used under the CC BY-SA 2.0 licence, from https://www.flickr.com/photos/christiaancolen/20446713629)"
      ]
    },
    {
      "metadata": {
        "id": "xrDPy_aeLvEC",
        "colab_type": "text"
      },
      "cell_type": "markdown",
      "source": [
        "##Objectives\n",
        "\n",
        "###You will be able to:\n",
        "\n",
        "* ... recognise and describe a half adder.\n",
        "  * ... draw a truth table for a half adder.\n",
        "* ... recognise and describe a full adder.\n",
        "  * ... draw a truth table for a half adder.\n",
        "* ... draw the circuits for both of these using online software.\n",
        "\n",
        "* ... run and improve some Python code which mimics the operation of a half adder and a full adder."
      ]
    },
    {
      "metadata": {
        "id": "sh_iVYLiYAzK",
        "colab_type": "text"
      },
      "cell_type": "markdown",
      "source": [
        "# Why is this important?\n",
        "\n",
        "from IPython.display import HTML\n",
        "\n",
        "# Youtube\n",
        "HTML('<iframe width=\"560\" height=\"315\" src=\"https://www.youtube.com/embed/S_f2qV2_U00?rel=0&amp;controls=0&amp;showinfo=0\" frameborder=\"0\" allowfullscreen></iframe>')\n"
      ]
    },
    {
      "metadata": {
        "id": "b9RAbRMOdTW7",
        "colab_type": "text"
      },
      "cell_type": "markdown",
      "source": [
        "# Starter\n",
        "\n",
        "![Picture of George Boole](http://sincil.co.uk/raspberry/George_Boole_color.jpg)\n",
        "---\n",
        "(Unknown author [Public domain], via Wikimedia Commons)\n",
        "\n",
        "##<font color='green'>A: George Boole (after which Boolean logic is named) was an English mathematician that lived from 1815 until 1864. What age was he when he died?</font>"
      ]
    },
    {
      "metadata": {
        "id": "5fUYJceWMoaI",
        "colab_type": "text"
      },
      "cell_type": "markdown",
      "source": [
        "# <font color='red'>A: Add your answer here</font>\n",
        "\n",
        "\n"
      ]
    },
    {
      "metadata": {
        "id": "w_4ZV8KEMia8",
        "colab_type": "text"
      },
      "cell_type": "markdown",
      "source": [
        "## <font color='green'>B: Individually, answer the review questions [(click here)](http://github.com) from the previous sessions. </font>\n",
        "\n"
      ]
    },
    {
      "metadata": {
        "id": "h1oLZWoTOpQR",
        "colab_type": "text"
      },
      "cell_type": "markdown",
      "source": [
        "\n",
        "Short screencast here - me describing half adder\n",
        "\n",
        "\n",
        "\n",
        "\n",
        "\n",
        "\n",
        "\n",
        "\n",
        "Short screencast here - me describing full adder\n",
        "\n",
        "\n",
        "\n",
        "\n",
        "\n",
        "\n",
        "\n",
        "\n",
        "\n",
        "\n",
        "\n",
        "Boolean Logic\n",
        "\n",
        "\n",
        "Boolean algebra uses algebraic expressions where they denote either **True** or **False**. These are usually \n",
        "\n",
        "\n",
        "\n",
        "\n",
        "\n",
        "Recap\n",
        "\n",
        "PRIOR LEARNING\n",
        "\n",
        "---\n",
        "\n",
        "\n",
        "\n",
        "---\n",
        "\n",
        "\n",
        "\n",
        "---\n",
        "\n",
        "\n",
        "\n",
        "George Boole\n",
        "True False\n",
        "Boolean Logic\n",
        "\n",
        "AND\n",
        "OR \n",
        "XOR\n",
        "NOT\n",
        "\n",
        "\n"
      ]
    },
    {
      "metadata": {
        "id": "5J6Ul8BJL5GE",
        "colab_type": "text"
      },
      "cell_type": "markdown",
      "source": [
        "#A full adder - what is it?"
      ]
    },
    {
      "metadata": {
        "id": "YKJGDYz3g3ap",
        "colab_type": "text"
      },
      "cell_type": "markdown",
      "source": [
        "#Half Adder\n",
        "\n",
        "##Here's some code for a half adder. You've been asked to improve it.\n",
        "\n",
        "1. What does the program do?\n",
        "2. Run the program. \n",
        "  * Do you have any questions?\n",
        "3. Improve the program.\n",
        "  * Make it easier to maintain by adding comments.\n",
        "  * Can the output be made more user-friendly?\n",
        "  * Could you make the code more reusable by using functions?"
      ]
    },
    {
      "metadata": {
        "id": "QBIUsYO1aIB7",
        "colab_type": "code",
        "colab": {}
      },
      "cell_type": "code",
      "source": [
        "x = bool(int(input(\"Please enter a 0 or 1: \")))\n",
        "y = bool(int(input(\"Please enter another 0 or 1: \")))\n",
        "\n",
        "print(x != y) \n",
        "print(x and y)"
      ],
      "execution_count": 0,
      "outputs": []
    },
    {
      "metadata": {
        "id": "dUodhS6Igl94",
        "colab_type": "code",
        "colab": {}
      },
      "cell_type": "code",
      "source": [
        "def xOR (x,y):\n",
        "  return (x != y)\n",
        "\n",
        "def main():\n",
        "  x = bool(int(input(\"Please enter a 0 or 1: \")))\n",
        "  y = bool(int(input(\"Please enter another 0 or 1: \")))\n",
        "  \n",
        "  print(xOR(x,y), x and y)\n",
        "  \n",
        "  \n",
        "main()\n",
        "  \n",
        "  \n",
        "  "
      ],
      "execution_count": 0,
      "outputs": []
    },
    {
      "metadata": {
        "id": "H-lafqWsk27X",
        "colab_type": "text"
      },
      "cell_type": "markdown",
      "source": [
        "FULL ADDER VIDEO HERE"
      ]
    },
    {
      "metadata": {
        "id": "ekJeThDTkRq3",
        "colab_type": "text"
      },
      "cell_type": "markdown",
      "source": [
        "#Full Adder\n",
        "\n",
        "##Here's some code for a full adder. You've been asked to improve it.\n",
        "\n",
        "1. What does the program do?\n",
        "2. Run the program. \n",
        "  * Do you have any questions?\n",
        "3. Improve the program.\n",
        "  * Make it easier to maintain by adding comments.\n",
        "  * Can the output be made more user-friendly?\n",
        "  * Could you make the code more reusable by using functions?"
      ]
    },
    {
      "metadata": {
        "id": "B4D-D01Ei4w-",
        "colab_type": "code",
        "colab": {}
      },
      "cell_type": "code",
      "source": [
        "x = bool(int(input(\"Please enter a 0 or 1: \")))\n",
        "y = bool(int(input(\"Please enter another 0 or 1: \")))\n",
        "carry_in = bool(int(input(\"Please enter a carry in: 0 or 1: \")))\n",
        "\n",
        "s = ((x != y) != carry_in)\n",
        "c_out = (x and y) or (carry_in and (x != y))\n",
        "print(s)\n",
        "print(c_out)"
      ],
      "execution_count": 0,
      "outputs": []
    },
    {
      "metadata": {
        "id": "JXSupvPac_mk",
        "colab_type": "code",
        "colab": {}
      },
      "cell_type": "code",
      "source": [
        "def xOR (x,y):\n",
        "    return (x != y)\n",
        "\n",
        "def FullAdder(a,b,c_in):\n",
        "    s = xOR(xOR(a,b), c_in)\n",
        "    c_out = (a and b) or (c_in and xOR(a,b))\n",
        "    return (s, c_out)\n",
        "\n",
        "\n",
        "def main():\n",
        "  \n",
        "  \n",
        "    x = bool(int(input(\"Please enter the first 0 or 1: \")))\n",
        "    y = bool(int(input(\"Please enter the second 0 or 1: \")))\n",
        "    carry_in = bool(int(input(\"Please enter a carry: 0 or 1: \")))\n",
        "    print(FullAdder(x,y,carry_in))\n",
        "    return\n",
        "\n",
        "\n",
        "main()\n"
      ],
      "execution_count": 0,
      "outputs": []
    },
    {
      "metadata": {
        "id": "4igW5B3bdBPO",
        "colab_type": "text"
      },
      "cell_type": "markdown",
      "source": [
        ""
      ]
    }
  ]
}