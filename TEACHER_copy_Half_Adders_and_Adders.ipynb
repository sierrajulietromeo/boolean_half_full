{
  "nbformat": 4,
  "nbformat_minor": 0,
  "metadata": {
    "colab": {
      "name": "TEACHER_copy_Half Adders and Adders.ipynb",
      "version": "0.3.2",
      "provenance": [],
      "collapsed_sections": [],
      "include_colab_link": true
    },
    "kernelspec": {
      "name": "python3",
      "display_name": "Python 3"
    }
  },
  "cells": [
    {
      "cell_type": "markdown",
      "metadata": {
        "id": "view-in-github",
        "colab_type": "text"
      },
      "source": [
        "<a href=\"https://colab.research.google.com/github/sierrajulietromeo/boolean_half_full/blob/master/TEACHER_copy_Half_Adders_and_Adders.ipynb\" target=\"_parent\"><img src=\"https://colab.research.google.com/assets/colab-badge.svg\" alt=\"Open In Colab\"/></a>"
      ]
    },
    {
      "metadata": {
        "id": "jdjlrul2LM50",
        "colab_type": "text"
      },
      "cell_type": "markdown",
      "source": [
        "# Logic Circuits - Adders\n",
        "### Fork your own copy as usual from https://github.com/sierrajulietromeo/boolean_half_full\n",
        "\n",
        "![Binary Header](http://sincil.co.uk/raspberry/header.png)\n",
        "\n",
        "<sup>(Header image used under the CC BY-SA 2.0 licence, from https://www.flickr.com/photos/christiaancolen/20446713629)</sup>  \n",
        "\n",
        "\n"
      ]
    },
    {
      "metadata": {
        "id": "xrDPy_aeLvEC",
        "colab_type": "text"
      },
      "cell_type": "markdown",
      "source": [
        "##Objectives\n",
        "\n",
        "###You will be able to:\n",
        "\n",
        "* ... recognise and describe a half adder.\n",
        "  * ... draw a truth table for a half adder.\n",
        "* ... recognise and describe a full adder.\n",
        "  * ... draw a truth table for a full adder.\n",
        "* ... draw the circuits for both of these using online applications.\n",
        "\n",
        "* ... predict, modify and improve some Python code which mimics the operation of a half adder and a full adder."
      ]
    },
    {
      "metadata": {
        "id": "sh_iVYLiYAzK",
        "colab_type": "text"
      },
      "cell_type": "markdown",
      "source": [
        "# Why are adders important? Steve says... (Video)\n",
        "\n",
        "[![Illustration of George Boole](http://img.youtube.com/vi/YBsrAmAins0/0.jpg)](https://youtu.be/YBsrAmAins0 \"Why is this important?\")\n",
        "\n",
        "<sup>(Picture of George Boole: Unknown author [Public domain], via Wikimedia Commons)</sup>"
      ]
    },
    {
      "metadata": {
        "id": "EnfaGUqNY_9d",
        "colab_type": "text"
      },
      "cell_type": "markdown",
      "source": [
        "##<font color='green'>Q1: From the video... typically how approximately how many logic gates does your average Intel i7 CPU consist of?</font>\n",
        "\n"
      ]
    },
    {
      "metadata": {
        "id": "y0lO9wrkZa8t",
        "colab_type": "text"
      },
      "cell_type": "markdown",
      "source": [
        "# <font color='red'>Q1: Add your answer here</font>  \n"
      ]
    },
    {
      "metadata": {
        "id": "ylhsR2qWeP92",
        "colab_type": "text"
      },
      "cell_type": "markdown",
      "source": [
        "##<font color='green'>Q2: George Boole (after which Boolean logic is named) was an English mathematician that lived from 1815 until 1864. What age was he when he died?</font>"
      ]
    },
    {
      "metadata": {
        "id": "PeWH1NtueXP7",
        "colab_type": "text"
      },
      "cell_type": "markdown",
      "source": [
        "# <font color='red'>Q2: Add your answer here</font>"
      ]
    },
    {
      "metadata": {
        "id": "w_4ZV8KEMia8",
        "colab_type": "text"
      },
      "cell_type": "markdown",
      "source": [
        "## <font color='green'>Q3: Individually, answer the review questions [(click here)](https://docs.google.com/forms/d/e/1FAIpQLSfd_3pxoAJ1HpUx6EkJJ7ToRnp4Cj2LBoykynlwUEz5LpHg7g/viewform?usp=sf_link) from the previous sessions. </font>\n",
        "\n"
      ]
    },
    {
      "metadata": {
        "id": "5J6Ul8BJL5GE",
        "colab_type": "text"
      },
      "cell_type": "markdown",
      "source": [
        "#Video: A half adder - what is it?\n"
      ]
    },
    {
      "metadata": {
        "id": "665vXUiiS9ea",
        "colab_type": "text"
      },
      "cell_type": "markdown",
      "source": [
        "[![Half adder video](http://img.youtube.com/vi/uqdFfE8tW_I/0.jpg)](https://youtu.be/uqdFfE8tW_I \"Why is this important?\")"
      ]
    },
    {
      "metadata": {
        "id": "x4KIpFGmc0U2",
        "colab_type": "text"
      },
      "cell_type": "markdown",
      "source": [
        "## <font color='green'>Q4: Using my sketch in the video above, recreate the half adder circuit using the [(website)](https://logic.ly/demo) and add it to your notebook in the cells below.</font>\n",
        "\n",
        "\n"
      ]
    },
    {
      "metadata": {
        "id": "4ZC21eNhazY0",
        "colab_type": "code",
        "colab": {}
      },
      "cell_type": "code",
      "source": [
        "# This code allows you to upload an image file to your Jupyter notebook\n",
        "\n",
        "from google.colab import files\n",
        "from IPython.display import Image\n",
        "uploaded = files.upload();"
      ],
      "execution_count": 0,
      "outputs": []
    },
    {
      "metadata": {
        "id": "SBTLEgZUcs69",
        "colab_type": "code",
        "colab": {}
      },
      "cell_type": "code",
      "source": [
        "Image('name_of_image_here.png')  # Add the name of your image here  "
      ],
      "execution_count": 0,
      "outputs": []
    },
    {
      "metadata": {
        "id": "R-hnM-vXe9ho",
        "colab_type": "text"
      },
      "cell_type": "markdown",
      "source": [
        "##<font color='green'>Q5: Complete the truth table for a half-adder.</font>"
      ]
    },
    {
      "metadata": {
        "id": "8AeovOyefDAW",
        "colab_type": "text"
      },
      "cell_type": "markdown",
      "source": [
        "| A | B | S | C.out |\n",
        "|:-:|:-:|:-:|:-----:|\n",
        "| 0 | 0 |   |       |\n",
        "| 0 | 1 |   |       |\n",
        "| 1 | 0 |   |       |\n",
        "| 1 | 1 |   |       |"
      ]
    },
    {
      "metadata": {
        "id": "YKJGDYz3g3ap",
        "colab_type": "text"
      },
      "cell_type": "markdown",
      "source": [
        "#<font color='green'>Q6: Half Adder Program Implementation</font>\n",
        "\n",
        "##Here's some code that implements a half adder. You've been asked to improve it.\n",
        "\n",
        "1. What does the program do?\n",
        "2. Run the program. \n",
        "  * Do you have any questions?\n",
        "3. Improve the program.\n",
        "  * Make it easier to maintain by adding comments.\n",
        "  * Can the output be made more user-friendly?\n",
        "  * Could you make the code more reusable by using functions?"
      ]
    },
    {
      "metadata": {
        "id": "QBIUsYO1aIB7",
        "colab_type": "code",
        "colab": {}
      },
      "cell_type": "code",
      "source": [
        "x = bool(int(input(\"Please enter a 0 or 1: \")))\n",
        "y = bool(int(input(\"Please enter another 0 or 1: \")))\n",
        "\n",
        "print(x != y) \n",
        "print(x and y)"
      ],
      "execution_count": 0,
      "outputs": []
    },
    {
      "metadata": {
        "id": "dUodhS6Igl94",
        "colab_type": "code",
        "colab": {}
      },
      "cell_type": "code",
      "source": [
        "# Sample code with functions for tutors\n",
        "\n",
        "def xOR (x,y):\n",
        "  return (x != y)\n",
        "\n",
        "def main():\n",
        "  x = bool(int(input(\"Please enter a 0 or 1: \")))\n",
        "  y = bool(int(input(\"Please enter another 0 or 1: \")))\n",
        "  \n",
        "  print(xOR(x,y), x and y)\n",
        "  \n",
        "  \n",
        "main()\n",
        "  \n",
        "  \n",
        "  "
      ],
      "execution_count": 0,
      "outputs": []
    },
    {
      "metadata": {
        "id": "H-lafqWsk27X",
        "colab_type": "text"
      },
      "cell_type": "markdown",
      "source": [
        "#Video - A full adder - what is it?\n",
        "\n",
        "[![IMAGE ALT TEXT](http://img.youtube.com/vi/MdYcaOAfsVI/0.jpg)](https://www.youtube.com/watch?v=MdYcaOAfsVI \"A full adder - what is it?\")"
      ]
    },
    {
      "metadata": {
        "id": "a7OG6ohPhUCF",
        "colab_type": "text"
      },
      "cell_type": "markdown",
      "source": [
        "## <font color='green'>Q7: Using my sketch in the video above, recreate the full adder circuit using the [(website)](https://logic.ly/demo) and add it to your notebook in the cells below.</font>\n",
        "\n"
      ]
    },
    {
      "metadata": {
        "id": "3zgsNfDYmGcb",
        "colab_type": "code",
        "colab": {}
      },
      "cell_type": "code",
      "source": [
        "# This code allows you to upload an image file to your Jupyter notebook\n",
        "\n",
        "from google.colab import files\n",
        "from IPython.display import Image\n",
        "uploaded = files.upload();"
      ],
      "execution_count": 0,
      "outputs": []
    },
    {
      "metadata": {
        "id": "NTjKbeSEmHYx",
        "colab_type": "code",
        "colab": {}
      },
      "cell_type": "code",
      "source": [
        "Image('name_of_image_here.png')  # Add the name of your image here between the ''. "
      ],
      "execution_count": 0,
      "outputs": []
    },
    {
      "metadata": {
        "id": "pdxm7G2Oiz9S",
        "colab_type": "text"
      },
      "cell_type": "markdown",
      "source": [
        "\n",
        "##<font color='green'>Q8: Complete the truth table for a full-adder.</font>"
      ]
    },
    {
      "metadata": {
        "id": "QsN0BIQgi7mm",
        "colab_type": "text"
      },
      "cell_type": "markdown",
      "source": [
        "| A | B | C.in | S | C.out |\n",
        "|:-:|:-:|:----:|:-:|-------|\n",
        "| 0 | 0 | 0    |   |       |\n",
        "| 0 | 0 | 1    |   |       |\n",
        "| 0 | 1 | 0    |   |       |\n",
        "| 0 | 1 | 1    |   |       |\n",
        "| 1 | 0 | 0    |   |       |\n",
        "| 1 | 0 | 1    |   |       |\n",
        "| 1 | 1 | 0    |   |       |\n",
        "| 1 | 1 | 1    |   |       |"
      ]
    },
    {
      "metadata": {
        "id": "ekJeThDTkRq3",
        "colab_type": "text"
      },
      "cell_type": "markdown",
      "source": [
        "#<font color='green'>Q9: Full Adder Program Implementation</font>\n",
        "\n",
        "## Here's some code for a full adder. You've been asked to improve it.\n",
        "\n",
        "1. What does the program do? <font color='green'>Q: Discuss with your partner.</font>\n",
        "2. Run the program. \n",
        "  * Do you have any questions? <font color='green'>Discuss your questions and write them here. Do you know any of the answers?</font>\n",
        "3. Improve the program.\n",
        "  * Can the output be made more user-friendly?\n",
        "  * Could you make the code more reusable by using functions?"
      ]
    },
    {
      "metadata": {
        "id": "B4D-D01Ei4w-",
        "colab_type": "code",
        "colab": {}
      },
      "cell_type": "code",
      "source": [
        "x = bool(int(input(\"Please enter a 0 or 1: \")))\n",
        "y = bool(int(input(\"Please enter another 0 or 1: \")))\n",
        "carry_in = bool(int(input(\"Please enter a carry in: 0 or 1: \")))\n",
        "\n",
        "s = ((x != y) != carry_in)\n",
        "c_out = (x and y) or (carry_in and (x != y))\n",
        "print(s)\n",
        "print(c_out)"
      ],
      "execution_count": 0,
      "outputs": []
    },
    {
      "metadata": {
        "id": "Pl4eAszIpi8J",
        "colab_type": "text"
      },
      "cell_type": "markdown",
      "source": [
        "#<font color='green'>Q10: Explain in your own words what is a full adder and what makes it better than a half adder?</font>\n"
      ]
    },
    {
      "metadata": {
        "id": "QUoXkEpEp1go",
        "colab_type": "text"
      },
      "cell_type": "markdown",
      "source": [
        "#<font color='red'>Q10: Your answer here</font>"
      ]
    },
    {
      "metadata": {
        "id": "JXSupvPac_mk",
        "colab_type": "code",
        "colab": {}
      },
      "cell_type": "code",
      "source": [
        "### Teachers sample version of one with functions\n",
        "\n",
        "def xOR (x,y):\n",
        "    return (x != y)\n",
        "\n",
        "def FullAdder(a,b,c_in):\n",
        "    s = xOR(xOR(a,b), c_in)\n",
        "    c_out = (a and b) or (c_in and xOR(a,b))\n",
        "    return (s, c_out)\n",
        "\n",
        "\n",
        "def main():\n",
        "  \n",
        "  \n",
        "    x = bool(int(input(\"Please enter the first 0 or 1: \")))\n",
        "    y = bool(int(input(\"Please enter the second 0 or 1: \")))\n",
        "    carry_in = bool(int(input(\"Please enter a carry: 0 or 1: \")))\n",
        "    print(FullAdder(x,y,carry_in))\n",
        "    return\n",
        "\n",
        "\n",
        "main()\n"
      ],
      "execution_count": 0,
      "outputs": []
    },
    {
      "metadata": {
        "id": "aDPgFNIunuLW",
        "colab_type": "text"
      },
      "cell_type": "markdown",
      "source": [
        "#Additional Extension Tasks\n",
        "\n",
        "\n",
        "1. Using the [(website)](https://logic.ly/demo), Logic.ly could you create a circuit of several full adders chained together to do some basic binary addition.\n",
        "2. In a code cell below, could you write some code which builds on the code above and mimics a number a full adders chained together to add a 4-bit binary number?\n",
        "3. Using components from the electronics cupboard and this [(this guide)](http://egomachines.com/animoid/ann-hardware/build-full-adder.html), create a working full-adder on a breadboard."
      ]
    }
  ]
}