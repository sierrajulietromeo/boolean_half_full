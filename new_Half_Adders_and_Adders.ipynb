{
  "nbformat": 4,
  "nbformat_minor": 0,
  "metadata": {
    "colab": {
      "name": "new Half Adders and Adders.ipynb",
      "version": "0.3.2",
      "provenance": [],
      "collapsed_sections": [],
      "include_colab_link": true
    },
    "kernelspec": {
      "name": "python3",
      "display_name": "Python 3"
    }
  },
  "cells": [
    {
      "cell_type": "markdown",
      "metadata": {
        "id": "view-in-github",
        "colab_type": "text"
      },
      "source": [
        "<a href=\"https://colab.research.google.com/github/sierrajulietromeo/boolean_half_full/blob/master/new_Half_Adders_and_Adders.ipynb\" target=\"_parent\"><img src=\"https://colab.research.google.com/assets/colab-badge.svg\" alt=\"Open In Colab\"/></a>"
      ]
    },
    {
      "metadata": {
        "id": "jdjlrul2LM50",
        "colab_type": "text"
      },
      "cell_type": "markdown",
      "source": [
        "# Logic Circuits - Adders\n",
        "\n",
        "![Binary Header](http://sincil.co.uk/raspberry/20446713629_d597b753fc_z.jpg)\n",
        "\n",
        "<sup>(Header image used under the CC BY-SA 2.0 licence, from https://www.flickr.com/photos/christiaancolen/20446713629)</sup>"
      ]
    },
    {
      "metadata": {
        "id": "xrDPy_aeLvEC",
        "colab_type": "text"
      },
      "cell_type": "markdown",
      "source": [
        "##Objectives\n",
        "\n",
        "###You will be able to:\n",
        "\n",
        "* ... recognise and describe a half adder.\n",
        "  * ... draw a truth table for a half adder.\n",
        "* ... recognise and describe a full adder.\n",
        "  * ... draw a truth table for a half adder.\n",
        "* ... draw the circuits for both of these using online software.\n",
        "\n",
        "* ... run and improve some Python code which mimics the operation of a half adder and a full adder."
      ]
    },
    {
      "metadata": {
        "id": "sh_iVYLiYAzK",
        "colab_type": "text"
      },
      "cell_type": "markdown",
      "source": [
        "# Why is this important?\n",
        "\n",
        "[![IMAGE ALT TEXT](http://img.youtube.com/vi/YBsrAmAins0/0.jpg)](https://youtu.be/YBsrAmAins0 \"Why is this important?\")\n",
        "\n",
        "(Unknown author [Public domain], via Wikimedia Commons)"
      ]
    },
    {
      "metadata": {
        "id": "EnfaGUqNY_9d",
        "colab_type": "text"
      },
      "cell_type": "markdown",
      "source": [
        "##<font color='green'>Q1: From the video... typically how approximately how many logic gates does your average Intel i7 CPU consist of?</font>\n",
        "\n",
        "##<font color='green'>Q2: George Boole (after which Boolean logic is named) was an English mathematician that lived from 1815 until 1864. What age was he when he died?</font>"
      ]
    },
    {
      "metadata": {
        "id": "y0lO9wrkZa8t",
        "colab_type": "text"
      },
      "cell_type": "markdown",
      "source": [
        "# <font color='red'>Q1: Add your answer here</font>\n",
        "# <font color='red'>Q2: Add your answer here</font>"
      ]
    },
    {
      "metadata": {
        "id": "w_4ZV8KEMia8",
        "colab_type": "text"
      },
      "cell_type": "markdown",
      "source": [
        "## <font color='green'>Q3: Individually, answer the review questions [(click here)](https://docs.google.com/forms/d/e/1FAIpQLSfd_3pxoAJ1HpUx6EkJJ7ToRnp4Cj2LBoykynlwUEz5LpHg7g/viewform?usp=sf_link) from the previous sessions. </font>\n",
        "\n"
      ]
    },
    {
      "metadata": {
        "id": "5J6Ul8BJL5GE",
        "colab_type": "text"
      },
      "cell_type": "markdown",
      "source": [
        "#A half adder - what is it?\n",
        "\n",
        "[![IMAGE ALT TEXT](http://img.youtube.com/vi/uqdFfE8tW_I/0.jpg)](https://youtu.be/uqdFfE8tW_I \"A half adder - what is it?\")"
      ]
    },
    {
      "metadata": {
        "id": "x4KIpFGmc0U2",
        "colab_type": "text"
      },
      "cell_type": "markdown",
      "source": [
        "## <font color='green'>Q: Using my sketch in the video above, recreate the half adder circuit using the [(website)](https://logic.ly/demo)</font>\n",
        "\n",
        "##<font color='green'>Q: Complete the truth table for a half-adder.</font>\n",
        "\n",
        "| A | B | S | C.out |\n",
        "|:-:|:-:|:-:|:-----:|\n",
        "| 0 | 0 |   |       |\n",
        "| 0 | 1 |   |       |\n",
        "| 1 | 0 |   |       |\n",
        "| 1 | 1 |   |       |"
      ]
    },
    {
      "metadata": {
        "id": "YKJGDYz3g3ap",
        "colab_type": "text"
      },
      "cell_type": "markdown",
      "source": [
        "#Half Adder\n",
        "\n",
        "##Here's some code that implements a half adder. You've been asked to improve it.\n",
        "\n",
        "1. What does the program do?\n",
        "2. Run the program. \n",
        "  * Do you have any questions?\n",
        "3. Improve the program.\n",
        "  * Make it easier to maintain by adding comments.\n",
        "  * Can the output be made more user-friendly?\n",
        "  * Could you make the code more reusable by using functions?"
      ]
    },
    {
      "metadata": {
        "id": "QBIUsYO1aIB7",
        "colab_type": "code",
        "colab": {}
      },
      "cell_type": "code",
      "source": [
        "x = bool(int(input(\"Please enter a 0 or 1: \")))\n",
        "y = bool(int(input(\"Please enter another 0 or 1: \")))\n",
        "\n",
        "print(x != y) \n",
        "print(x and y)"
      ],
      "execution_count": 0,
      "outputs": []
    },
    {
      "metadata": {
        "id": "dUodhS6Igl94",
        "colab_type": "code",
        "colab": {}
      },
      "cell_type": "code",
      "source": [
        "def xOR (x,y):\n",
        "  return (x != y)\n",
        "\n",
        "def main():\n",
        "  x = bool(int(input(\"Please enter a 0 or 1: \")))\n",
        "  y = bool(int(input(\"Please enter another 0 or 1: \")))\n",
        "  \n",
        "  print(xOR(x,y), x and y)\n",
        "  \n",
        "  \n",
        "main()\n",
        "  \n",
        "  \n",
        "  "
      ],
      "execution_count": 0,
      "outputs": []
    },
    {
      "metadata": {
        "id": "H-lafqWsk27X",
        "colab_type": "text"
      },
      "cell_type": "markdown",
      "source": [
        "#A full adder - what is it?\n",
        "\n",
        "[![IMAGE ALT TEXT](http://img.youtube.com/vi/YOUTUBE_VIDEO_ID_HERE/0.jpg)](http://www.youtube.com/watch?v=YOUTUBE_VIDEO_ID_HERE \"Video Title\")"
      ]
    },
    {
      "metadata": {
        "id": "a7OG6ohPhUCF",
        "colab_type": "text"
      },
      "cell_type": "markdown",
      "source": [
        "## <font color='green'>Q: Using my sketch in the video above, recreate the full adder circuit using the [(website)](https://logic.ly/demo)</font>\n",
        "\n",
        "##<font color='green'>Q: Complete the truth table for a full-adder.</font>\n",
        "\n",
        "\n",
        "\n",
        "| A | B | C.in | S | C.out |\n",
        "|:-:|:-:|:----:|:-:|-------|\n",
        "| 0 | 0 | 0    |   |       |\n",
        "| 0 | 0 | 1    |   |       |\n",
        "| 0 | 1 | 0    |   |       |\n",
        "| 0 | 1 | 1    |   |       |\n",
        "| 1 | 0 | 0    |   |       |\n",
        "| 1 | 0 | 1    |   |       |\n",
        "| 1 | 1 | 0    |   |       |\n",
        "| 1 | 1 | 1    |   |       |\n",
        "\n"
      ]
    },
    {
      "metadata": {
        "id": "ekJeThDTkRq3",
        "colab_type": "text"
      },
      "cell_type": "markdown",
      "source": [
        "#Full Adder\n",
        "\n",
        "##Here's some code for a full adder. You've been asked to improve it.\n",
        "\n",
        "1. What does the program do? <font color='green'>Q: Discuss with your partner and comment the code.</font>\n",
        "2. Run the program. \n",
        "  * Do you have any questions? <font color='green'>Q:Write them here.</font>\n",
        "3. Improve the program.\n",
        "  * Can the output be made more user-friendly?\n",
        "  * Could you make the code more reusable by using functions?"
      ]
    },
    {
      "metadata": {
        "id": "B4D-D01Ei4w-",
        "colab_type": "code",
        "colab": {}
      },
      "cell_type": "code",
      "source": [
        "x = bool(int(input(\"Please enter a 0 or 1: \")))\n",
        "y = bool(int(input(\"Please enter another 0 or 1: \")))\n",
        "carry_in = bool(int(input(\"Please enter a carry in: 0 or 1: \")))\n",
        "\n",
        "s = ((x != y) != carry_in)\n",
        "c_out = (x and y) or (carry_in and (x != y))\n",
        "print(s)\n",
        "print(c_out)"
      ],
      "execution_count": 0,
      "outputs": []
    },
    {
      "metadata": {
        "id": "JXSupvPac_mk",
        "colab_type": "code",
        "colab": {}
      },
      "cell_type": "code",
      "source": [
        "def xOR (x,y):\n",
        "    return (x != y)\n",
        "\n",
        "def FullAdder(a,b,c_in):\n",
        "    s = xOR(xOR(a,b), c_in)\n",
        "    c_out = (a and b) or (c_in and xOR(a,b))\n",
        "    return (s, c_out)\n",
        "\n",
        "\n",
        "def main():\n",
        "  \n",
        "  \n",
        "    x = bool(int(input(\"Please enter the first 0 or 1: \")))\n",
        "    y = bool(int(input(\"Please enter the second 0 or 1: \")))\n",
        "    carry_in = bool(int(input(\"Please enter a carry: 0 or 1: \")))\n",
        "    print(FullAdder(x,y,carry_in))\n",
        "    return\n",
        "\n",
        "\n",
        "main()\n"
      ],
      "execution_count": 0,
      "outputs": []
    }
  ]
}